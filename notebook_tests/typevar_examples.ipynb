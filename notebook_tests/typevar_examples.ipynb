{
 "cells": [
  {
   "cell_type": "code",
   "execution_count": 6,
   "id": "187cf556",
   "metadata": {},
   "outputs": [],
   "source": [
    "import sys\n",
    "import os\n",
    "\n",
    "# Add the parent directory to sys.path\n",
    "parent_dir = os.path.abspath(os.path.join(os.getcwd(), '..'))\n",
    "if parent_dir not in sys.path:\n",
    "    sys.path.append(parent_dir)\n",
    "\n",
    "# Now your import should work\n",
    "from llm_engineering.database.mongo_connection import connection\n",
    "from llm_engineering.model.settings import settings\n"
   ]
  },
  {
   "cell_type": "code",
   "execution_count": 15,
   "id": "c88d8258",
   "metadata": {},
   "outputs": [],
   "source": [
    "import uuid\n",
    "from abc import ABC\n",
    "from typing import Generic, Type, TypeVar\n",
    "from loguru import logger\n",
    "from pydantic import UUID4, BaseModel, Field\n",
    "from pymongo import errors\n",
    "\n",
    "# Set up the initial database connection\n",
    "try:\n",
    "    _database = connection.get_database(settings.MONGO_DATABASE_NAME)\n",
    "except Exception as e:\n",
    "    logger.error(f\"Failed to connect to MongoDB: {e}\")\n",
    "    raise e  # Raise an exception if the connection fails\n",
    "\n",
    "\"\"\"\n",
    "### Object-Document Mapper (ODM) Overview\n",
    "This class defines a **MongoDB-compatible ODM**, similar to ORM but designed for NoSQL databases.\n",
    "It allows defining a **base document class** that can be extended for different MongoDB collections.\n",
    "\n",
    "We leverage **TypeVar (T)** for generic typing, ensuring that subclasses maintain the correct type hinting.\n",
    "\n",
    "TypeVar Reference:\n",
    "- https://realpython.com/python-type-checking/\n",
    "- https://realpython.com/python312-typing/\n",
    "\"\"\"\n",
    "\n",
    "# Define a **TypeVar** with a bound, restricting it to subclasses of `NoSQLBaseDocument`\n",
    "T = TypeVar(\"T\", bound=\"NoSQLBaseDocument\")\n",
    "\n",
    "\n",
    "class NoSQLBaseDocument(BaseModel, Generic[T], ABC):\n",
    "    \"\"\"Base class for MongoDB documents using Pydantic and UUIDs.\"\"\"\n",
    "    \n",
    "    # **Auto-generating a UUID4-based unique identifier for MongoDB documents**\n",
    "    id: UUID4 = Field(default_factory=uuid.uuid4)\n",
    "\n",
    "    # Implementing comparison and hashing methods for better usage in dictionaries and sets\n",
    "    def __eq__(self, value: object) -> bool:\n",
    "        \"\"\"Enables comparison between instances using their unique `id`.\"\"\"\n",
    "        logger.debug(f\"Comparing {self.__class__.__name__} with {value.__class__.__name__}\")\n",
    "        if not isinstance(value, self.__class__):\n",
    "            return False\n",
    "        return self.id == value.id\n",
    "\n",
    "    def __hash__(self) -> int:\n",
    "        \"\"\"Allows instances to be used as dictionary keys or in sets.\"\"\"\n",
    "        return hash(self.id)\n",
    "\n",
    "    @classmethod\n",
    "    def from_mongo(cls: Type[T], data: dict) -> T:\n",
    "        \"\"\"\n",
    "        Converts a MongoDB document into a class instance.\n",
    "        \n",
    "        - MongoDB stores `_id` as a string; this method **converts it into a UUID**.\n",
    "        \"\"\"\n",
    "        if not data:\n",
    "            raise ValueError(\"Data is empty.\")\n",
    "        \n",
    "        # Extract the MongoDB `_id` and convert it to a UUID object\n",
    "        id = uuid.UUID(data.pop(\"_id\"))\n",
    "        \n",
    "        return cls(**dict(data, id=id))\n",
    "\n",
    "    def to_mongo(self: T, **kwargs) -> dict:\n",
    "        \"\"\"\n",
    "        Converts the class instance into a MongoDB-compatible dictionary.\n",
    "        \n",
    "        - MongoDB expects `_id` as a **string**, so this method ensures proper conversion.\n",
    "        - Uses Pydantic's `model_dump()` to serialize fields.\n",
    "        \"\"\"\n",
    "        exclude_unset = kwargs.pop(\"exclude_unset\", False) #unpacked from kwargs pop the exclude_unset flag\n",
    "        by_alias = kwargs.pop(\"by_alias\", True) #unpacked from kwargs pop the by_alias flag\n",
    "\n",
    "        # Serialize the model instance into a dictionary\n",
    "        # dumps all fields from kwargs, excluding unset fields if specified\n",
    "        # and using aliases if specified\n",
    "        parsed = self.model_dump(exclude_unset=exclude_unset, by_alias=by_alias, **kwargs)\n",
    "\n",
    "        # Ensure `_id` is correctly set as a string before inserting into MongoDB\n",
    "        if \"_id\" not in parsed and \"id\" in parsed:\n",
    "            parsed[\"_id\"] = str(parsed.pop(\"id\"))\n",
    "\n",
    "        # Convert any remaining UUID fields into strings\n",
    "        for key, value in parsed.items():\n",
    "            if isinstance(value, uuid.UUID):\n",
    "                parsed[key] = str(value)\n",
    "\n",
    "        return parsed\n",
    "\n",
    "    def save(self: T, **kwargs) -> T | None:\n",
    "        \"\"\"\n",
    "        Saves the document to the MongoDB collection.\n",
    "        \n",
    "        - Converts the class instance into MongoDB format using `to_mongo()`.\n",
    "        \"\"\"\n",
    "        collection = _database[self.get_collection_name()]\n",
    "        try:\n",
    "            # Insert the document into the MongoDB collection\n",
    "            logger.debug(f\"Inserting document into collection: {self.get_collection_name()}\")\n",
    "            collection.insert_one(self.to_mongo(**kwargs))\n",
    "            return self\n",
    "        except errors.WriteError:\n",
    "            logger.exception(\"Failed to insert document.\")\n",
    "            return None\n",
    "\n",
    "    @classmethod\n",
    "    def get_or_create(cls: Type[T], **filter_options) -> T:\n",
    "        \"\"\"\n",
    "        Retrieves an existing document or **creates** a new one if it doesn't exist.\n",
    "        \n",
    "        - Attempts to find a matching document in MongoDB using `filter_options`.\n",
    "        - If found, it converts the result using `from_mongo()`.\n",
    "        - Otherwise, it **creates a new instance** and inserts it.\n",
    "        \"\"\"\n",
    "        collection = _database[cls.get_collection_name()]\n",
    "        try:\n",
    "            instance = collection.find_one(filter_options)\n",
    "            if instance:\n",
    "                return cls.from_mongo(instance)\n",
    "\n",
    "            # Create and save a new document if no match is found\n",
    "            new_instance = cls(**filter_options)\n",
    "            new_instance = new_instance.save()\n",
    "            \n",
    "            return new_instance\n",
    "        except errors.OperationFailure:\n",
    "            logger.exception(f\"Failed to retrieve document with filter options: {filter_options}\")\n",
    "            raise\n",
    "\n",
    "    @classmethod\n",
    "    def bulk_insert(cls: Type[T], documents: list[T], **kwargs) -> bool:\n",
    "        \"\"\"\n",
    "        Inserts multiple documents into the MongoDB collection.\n",
    "        \n",
    "        - Converts each instance using `to_mongo()` before insertion.\n",
    "        \"\"\"\n",
    "        collection = _database[cls.get_collection_name()]\n",
    "        try:\n",
    "            collection.insert_many(doc.to_mongo(**kwargs) for doc in documents)\n",
    "            return True\n",
    "        except (errors.WriteError, errors.BulkWriteError):\n",
    "            logger.error(f\"Failed to insert documents of type {cls.__name__}\")\n",
    "            return False\n",
    "\n",
    "    @classmethod\n",
    "    def find(cls: Type[T], **filter_options) -> T | None:\n",
    "        \"\"\"\n",
    "        Finds a **single** document in MongoDB.\n",
    "        \n",
    "        - Uses the provided filter options.\n",
    "        \"\"\"\n",
    "        collection = _database[cls.get_collection_name()]\n",
    "        try:\n",
    "            instance = collection.find_one(filter_options)\n",
    "            return cls.from_mongo(instance) if instance else None\n",
    "        except errors.OperationFailure:\n",
    "            logger.error(\"Failed to retrieve document\")\n",
    "            return None\n",
    "\n",
    "    @classmethod\n",
    "    def bulk_find(cls: Type[T], **filter_options) -> list[T]:\n",
    "        \"\"\"\n",
    "        Finds **multiple** documents matching filter criteria.\n",
    "        \"\"\"\n",
    "        collection = _database[cls.get_collection_name()]\n",
    "        try:\n",
    "            instances = collection.find(filter_options)\n",
    "            return [document for instance in instances if (document := cls.from_mongo(instance)) is not None]\n",
    "        except errors.OperationFailure:\n",
    "            logger.error(\"Failed to retrieve documents\")\n",
    "            return []\n",
    "\n",
    "    @classmethod\n",
    "    def get_collection_name(cls: Type[T]) -> str:\n",
    "        \"\"\"Retrieves the collection name from the Settings configuration class.\"\"\"\n",
    "        try:\n",
    "            print(f\"Using collection name: {cls.Settings.name}\")\n",
    "            if not hasattr(cls, 'Settings'):\n",
    "                raise ValueError(\"Settings class is not defined in the document class.\")\n",
    "            return cls.Settings.name\n",
    "        except AttributeError:\n",
    "            raise ValueError(\"Missing 'name' attribute in the Settings configuration class.\")"
   ]
  },
  {
   "cell_type": "code",
   "execution_count": 8,
   "id": "e027f5d8",
   "metadata": {},
   "outputs": [],
   "source": [
    "# Define a concrete model so this is user model that inherits from NoSQLBaseDocument\n",
    "class UserModel(NoSQLBaseDocument):\n",
    "    \"\"\"Example user document.\"\"\"\n",
    "    name: str\n",
    "    email: str\n"
   ]
  },
  {
   "cell_type": "code",
   "execution_count": 9,
   "id": "4f847b6c",
   "metadata": {},
   "outputs": [],
   "source": [
    "mongo_doc = {\"_id\": \"123\", \"name\": \"Michael\", \"email\": \"michael@example.com\"}"
   ]
  },
  {
   "cell_type": "code",
   "execution_count": 10,
   "id": "0c7272a9",
   "metadata": {},
   "outputs": [
    {
     "name": "stdout",
     "output_type": "stream",
     "text": [
      "User ID (UUID4): 7df7b763-a017-4a88-880c-4be1237fdf63\n",
      "User Name: Michael\n",
      "User Email: michael@example.com\n"
     ]
    }
   ],
   "source": [
    "# Simulated MongoDB document\n",
    "mongo_doc = {\n",
    "    \"_id\": str(uuid.uuid4()),  # MongoDB stores _id as a string\n",
    "    \"name\": \"Michael\",\n",
    "    \"email\": \"michael@example.com\"\n",
    "}\n",
    "\n",
    "# Convert MongoDB document to UserModel instance\n",
    "user_instance = UserModel.from_mongo(mongo_doc)\n",
    "\n",
    "# Print the output\n",
    "print(f\"User ID (UUID4): {user_instance.id}\")\n",
    "print(f\"User Name: {user_instance.name}\")\n",
    "print(f\"User Email: {user_instance.email}\")"
   ]
  },
  {
   "cell_type": "code",
   "execution_count": 11,
   "id": "8b7623b6",
   "metadata": {},
   "outputs": [
    {
     "name": "stdout",
     "output_type": "stream",
     "text": [
      "MongoDB-Compatible Dictionary:\n",
      "{'name': 'Michael', 'email': 'michael@example.com', '_id': '72bc0ef3-956b-4b2e-85bc-a6f8d9d75dfd'}\n"
     ]
    }
   ],
   "source": [
    "# Create an instance\n",
    "user = UserModel(name=\"Michael\", email=\"michael@example.com\")\n",
    "\n",
    "# Convert to MongoDB format\n",
    "mongo_data = user.to_mongo()\n",
    "\n",
    "# Print the results\n",
    "print(\"MongoDB-Compatible Dictionary:\")\n",
    "print(mongo_data)\n"
   ]
  },
  {
   "cell_type": "code",
   "execution_count": 17,
   "id": "75a4f7b8",
   "metadata": {},
   "outputs": [
    {
     "name": "stderr",
     "output_type": "stream",
     "text": [
      "\u001b[32m2025-06-03 17:16:48.797\u001b[0m | \u001b[34m\u001b[1mDEBUG   \u001b[0m | \u001b[36m__main__\u001b[0m:\u001b[36msave\u001b[0m:\u001b[36m99\u001b[0m - \u001b[34m\u001b[1mInserting document into collection: users\u001b[0m\n"
     ]
    },
    {
     "name": "stdout",
     "output_type": "stream",
     "text": [
      "Using collection name: users\n",
      "Using collection name: users\n"
     ]
    },
    {
     "data": {
      "text/plain": [
       "UserDocument(id=UUID('25329301-1a65-486f-9e7c-74c085b37d1f'), name='Michael', email='michael@example.com')"
      ]
     },
     "execution_count": 17,
     "metadata": {},
     "output_type": "execute_result"
    }
   ],
   "source": [
    "class UserDocument(NoSQLBaseDocument):\n",
    "    \"\"\"Example document for MongoDB.\"\"\"\n",
    "\n",
    "    name: str\n",
    "    email: str\n",
    "\n",
    "    # Define the Settings class to specify the MongoDB collection name\n",
    "    class Settings:\n",
    "        name = \"users\"  # MongoDB collection name\n",
    "\n",
    "\n",
    "user = UserDocument(name=\"Michael\", email=\"michael@example.com\")\n",
    "user.save()  # Saves user to MongoDB"
   ]
  },
  {
   "cell_type": "code",
   "execution_count": 18,
   "id": "1be49124",
   "metadata": {},
   "outputs": [
    {
     "name": "stdout",
     "output_type": "stream",
     "text": [
      "Using collection name: users\n",
      "25329301-1a65-486f-9e7c-74c085b37d1f Michael michael@example.com\n"
     ]
    }
   ],
   "source": [
    "user = UserDocument.get_or_create(name=\"Michael\", email=\"michael@example.com\")\n",
    "print(user.id, user.name, user.email)"
   ]
  },
  {
   "cell_type": "code",
   "execution_count": 19,
   "id": "5f603bc5",
   "metadata": {},
   "outputs": [
    {
     "name": "stdout",
     "output_type": "stream",
     "text": [
      "Using collection name: users\n"
     ]
    },
    {
     "data": {
      "text/plain": [
       "True"
      ]
     },
     "execution_count": 19,
     "metadata": {},
     "output_type": "execute_result"
    }
   ],
   "source": [
    "users = [\n",
    "    UserDocument(name=\"Alice\", email=\"alice@example.com\"),\n",
    "    UserDocument(name=\"Bob\", email=\"bob@example.com\"),\n",
    "]\n",
    "UserDocument.bulk_insert(users)"
   ]
  },
  {
   "cell_type": "code",
   "execution_count": 20,
   "id": "e1e8ad94",
   "metadata": {},
   "outputs": [
    {
     "name": "stdout",
     "output_type": "stream",
     "text": [
      "Using collection name: users\n",
      "[UserDocument(id=UUID('b90fa9cd-45f0-4a6b-a849-8ffcef6b429f'), name='Alice', email='alice@example.com')]\n"
     ]
    }
   ],
   "source": [
    "users = UserDocument.bulk_find(email=\"alice@example.com\")\n",
    "print(users)"
   ]
  },
  {
   "cell_type": "code",
   "execution_count": null,
   "id": "d2f2ee12",
   "metadata": {},
   "outputs": [
    {
     "name": "stdout",
     "output_type": "stream",
     "text": [
      "Using collection name: users\n"
     ]
    },
    {
     "data": {
      "text/plain": [
       "UserDocument(id=UUID('25329301-1a65-486f-9e7c-74c085b37d1f'), name='Michael', email='michael@example.com')"
      ]
     },
     "execution_count": 21,
     "metadata": {},
     "output_type": "execute_result"
    }
   ],
   "source": [
    "# since it already exists confirming that it returns same UUID\n",
    "UserDocument.get_or_create(name=\"Michael\", email=\"michael@example.com\")"
   ]
  },
  {
   "cell_type": "code",
   "execution_count": null,
   "id": "e32158f7",
   "metadata": {},
   "outputs": [],
   "source": []
  }
 ],
 "metadata": {
  "kernelspec": {
   "display_name": "llm-depends-6ocNReUA-py3.11",
   "language": "python",
   "name": "python3"
  },
  "language_info": {
   "codemirror_mode": {
    "name": "ipython",
    "version": 3
   },
   "file_extension": ".py",
   "mimetype": "text/x-python",
   "name": "python",
   "nbconvert_exporter": "python",
   "pygments_lexer": "ipython3",
   "version": "3.11.8"
  }
 },
 "nbformat": 4,
 "nbformat_minor": 5
}
