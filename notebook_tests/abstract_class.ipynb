{
 "cells": [
  {
   "cell_type": "code",
   "execution_count": 1,
   "id": "5108452c",
   "metadata": {},
   "outputs": [],
   "source": [
    "from abc import ABC"
   ]
  },
  {
   "cell_type": "code",
   "execution_count": 2,
   "id": "2793ac3c",
   "metadata": {},
   "outputs": [],
   "source": [
    "class Animal(ABC):\n",
    "    def __init__(self, name: str):\n",
    "        self.name = name\n",
    "\n",
    "    def walk(self) -> str:\n",
    "        return f\"{self.name} is walking.\""
   ]
  },
  {
   "cell_type": "code",
   "execution_count": 3,
   "id": "622cc960",
   "metadata": {},
   "outputs": [],
   "source": [
    "# Dog is an abstract class that inherits from Animal\n",
    "class Dog(Animal):\n",
    "    def __init__(self, name: str):\n",
    "        super().__init__(name) # calls the constructor of Animal (the super class)\n",
    "\n",
    "    def wag_tail(self) -> str:\n",
    "        return f\"{self.name} is wagging its tail.\""
   ]
  },
  {
   "cell_type": "code",
   "execution_count": 4,
   "id": "d17042b4",
   "metadata": {},
   "outputs": [
    {
     "name": "stdout",
     "output_type": "stream",
     "text": [
      "Pluto is walking.\n",
      "Pluto is wagging its tail.\n"
     ]
    }
   ],
   "source": [
    "pluto = Dog(\"Pluto\")\n",
    "print(pluto.walk())  # Output: Pluto is walking.\n",
    "print(pluto.wag_tail())  # Output: Pluto is wagging its tail."
   ]
  },
  {
   "cell_type": "code",
   "execution_count": null,
   "id": "241523ff",
   "metadata": {},
   "outputs": [],
   "source": []
  }
 ],
 "metadata": {
  "kernelspec": {
   "display_name": "llm-depends-6ocNReUA-py3.11",
   "language": "python",
   "name": "python3"
  },
  "language_info": {
   "codemirror_mode": {
    "name": "ipython",
    "version": 3
   },
   "file_extension": ".py",
   "mimetype": "text/x-python",
   "name": "python",
   "nbconvert_exporter": "python",
   "pygments_lexer": "ipython3",
   "version": "3.11.8"
  }
 },
 "nbformat": 4,
 "nbformat_minor": 5
}
